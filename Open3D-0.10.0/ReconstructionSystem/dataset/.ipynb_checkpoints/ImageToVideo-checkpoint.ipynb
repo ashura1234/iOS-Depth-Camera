{
 "cells": [
  {
   "cell_type": "code",
   "execution_count": 1,
   "metadata": {},
   "outputs": [],
   "source": [
    "from os import listdir\n",
    "from os.path import isfile, join\n",
    "import glob\n",
    "import cv2\n",
    "from PIL import Image\n",
    "import numpy as np\n",
    "import matplotlib.pyplot as plt"
   ]
  },
  {
   "cell_type": "code",
   "execution_count": 2,
   "metadata": {},
   "outputs": [],
   "source": [
    "def get_color(root):\n",
    "    filenames = [f for f in listdir(root) if isfile(join(root, f))]\n",
    "    images = []\n",
    "    for path in sorted(filenames):\n",
    "        path = root+path\n",
    "        img = cv2.imread(path, cv2.IMREAD_COLOR)\n",
    "        images.append(img)\n",
    "    return images"
   ]
  },
  {
   "cell_type": "code",
   "execution_count": 3,
   "metadata": {},
   "outputs": [],
   "source": [
    "def get_depth(root):\n",
    "    filenames = [f for f in listdir(root) if isfile(join(root, f))]\n",
    "    depths = []\n",
    "    for path in sorted(filenames):\n",
    "        path = root+path\n",
    "        img = cv2.imread(path, cv2.IMREAD_UNCHANGED)\n",
    "        depths.append(img)\n",
    "    return depths"
   ]
  },
  {
   "cell_type": "code",
   "execution_count": 8,
   "metadata": {},
   "outputs": [],
   "source": [
    "images = get_color(\"./iOSLivingRoom/color/\")\n",
    "depths = get_depth(\"./iOSLivingRoom/depth/\")\n",
    "depthMax = np.max(depths)\n",
    "frame_height, frame_width = depths[0].shape[0:2]\n",
    "fourcc = cv2.VideoWriter_fourcc(*'XVID')\n",
    "vid = cv2.VideoWriter('combined.mp4', fourcc, 60, (frame_width*2, frame_height))"
   ]
  },
  {
   "cell_type": "code",
   "execution_count": 9,
   "metadata": {},
   "outputs": [
    {
     "name": "stdout",
     "output_type": "stream",
     "text": [
      "(640, 480, 3)\n",
      "(320, 240)\n"
     ]
    }
   ],
   "source": [
    "print(images[0].shape)\n",
    "print(depths[0].shape)"
   ]
  },
  {
   "cell_type": "code",
   "execution_count": 10,
   "metadata": {},
   "outputs": [],
   "source": [
    "for i in range(len(images)):\n",
    "    depths[i] = cv2.convertScaleAbs(depths[i], alpha=255/depthMax)\n",
    "    depths[i] = cv2.applyColorMap(depths[i], cv2.COLORMAP_JET);\n",
    "    smallerImg = cv2.resize(images[i], (depths[i].shape[1],depths[i].shape[0]), interpolation = cv2.INTER_AREA)\n",
    "    vis = np.concatenate((smallerImg, depths[i]), axis=1)\n",
    "    vid.write(vis)\n",
    "\n",
    "vid.release()"
   ]
  },
  {
   "cell_type": "code",
   "execution_count": null,
   "metadata": {},
   "outputs": [],
   "source": []
  }
 ],
 "metadata": {
  "kernelspec": {
   "display_name": "Python 3",
   "language": "python",
   "name": "python3"
  },
  "language_info": {
   "codemirror_mode": {
    "name": "ipython",
    "version": 3
   },
   "file_extension": ".py",
   "mimetype": "text/x-python",
   "name": "python",
   "nbconvert_exporter": "python",
   "pygments_lexer": "ipython3",
   "version": "3.7.9"
  }
 },
 "nbformat": 4,
 "nbformat_minor": 4
}
